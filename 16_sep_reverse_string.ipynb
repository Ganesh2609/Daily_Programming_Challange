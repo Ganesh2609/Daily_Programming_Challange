{
 "cells": [
  {
   "cell_type": "code",
   "execution_count": 13,
   "metadata": {},
   "outputs": [],
   "source": [
    "def reverse_string(inp:str):\n",
    "    inp = inp.split(' ')\n",
    "    filtered = list(filter(lambda item: item != '', inp))\n",
    "    out = \"\"\n",
    "    for i in filtered[::-1]:\n",
    "        out += i + \" \"\n",
    "    out = out.rstrip()\n",
    "    return out"
   ]
  },
  {
   "cell_type": "code",
   "execution_count": 14,
   "metadata": {},
   "outputs": [
    {
     "name": "stdout",
     "output_type": "stream",
     "text": [
      "The input is : the sky is blue\n",
      "The output is : blue is sky the\n"
     ]
    }
   ],
   "source": [
    "# Test case 1\n",
    "\n",
    "inp = \"the sky is blue\"\n",
    "out = reverse_string(inp=inp)\n",
    "print(\"The input is :\", inp)\n",
    "print(\"The output is :\", out)"
   ]
  },
  {
   "cell_type": "code",
   "execution_count": 15,
   "metadata": {},
   "outputs": [
    {
     "name": "stdout",
     "output_type": "stream",
     "text": [
      "The input is :   hello world  \n",
      "The output is : world hello\n"
     ]
    }
   ],
   "source": [
    "# Test case 2\n",
    "\n",
    "inp = \"  hello world  \"\n",
    "out = reverse_string(inp=inp)\n",
    "print(\"The input is :\", inp)\n",
    "print(\"The output is :\", out)"
   ]
  },
  {
   "cell_type": "code",
   "execution_count": 16,
   "metadata": {},
   "outputs": [
    {
     "name": "stdout",
     "output_type": "stream",
     "text": [
      "The input is : a good   example\n",
      "The output is : example good a\n"
     ]
    }
   ],
   "source": [
    "# Test case 3\n",
    "\n",
    "inp = \"a good   example\"\n",
    "out = reverse_string(inp=inp)\n",
    "print(\"The input is :\", inp)\n",
    "print(\"The output is :\", out)"
   ]
  },
  {
   "cell_type": "code",
   "execution_count": 17,
   "metadata": {},
   "outputs": [
    {
     "name": "stdout",
     "output_type": "stream",
     "text": [
      "The input is :     \n",
      "The output is : \n"
     ]
    }
   ],
   "source": [
    "# Test case 4\n",
    "\n",
    "inp = \"    \"\n",
    "out = reverse_string(inp=inp)\n",
    "print(\"The input is :\", inp)\n",
    "print(\"The output is :\", out)"
   ]
  },
  {
   "cell_type": "code",
   "execution_count": 18,
   "metadata": {},
   "outputs": [
    {
     "name": "stdout",
     "output_type": "stream",
     "text": [
      "The input is : word\n",
      "The output is : word\n"
     ]
    }
   ],
   "source": [
    "# Test case 5\n",
    "\n",
    "inp = \"word\"\n",
    "out = reverse_string(inp=inp)\n",
    "print(\"The input is :\", inp)\n",
    "print(\"The output is :\", out)"
   ]
  }
 ],
 "metadata": {
  "kernelspec": {
   "display_name": "TorchEnv1",
   "language": "python",
   "name": "python3"
  },
  "language_info": {
   "codemirror_mode": {
    "name": "ipython",
    "version": 3
   },
   "file_extension": ".py",
   "mimetype": "text/x-python",
   "name": "python",
   "nbconvert_exporter": "python",
   "pygments_lexer": "ipython3",
   "version": "3.12.4"
  }
 },
 "nbformat": 4,
 "nbformat_minor": 2
}
