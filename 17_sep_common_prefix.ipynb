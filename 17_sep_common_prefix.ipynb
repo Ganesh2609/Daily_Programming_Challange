{
 "cells": [
  {
   "cell_type": "code",
   "execution_count": 1,
   "metadata": {},
   "outputs": [],
   "source": [
    "from typing import List"
   ]
  },
  {
   "cell_type": "code",
   "execution_count": 2,
   "metadata": {},
   "outputs": [],
   "source": [
    "def find_common_substring(arr:List):\n",
    "    max_len = len(arr[0])\n",
    "    for i in arr:\n",
    "        if len(i) < max_len:\n",
    "            max_len = len(i)\n",
    "    \n",
    "    out = \"\"\n",
    "    if max_len == 0:\n",
    "        return out \n",
    "    \n",
    "    i = 0\n",
    "    j = -1\n",
    "    while (len(out) <= max_len and i != 0) or len(out) < max_len:\n",
    "        if i == 0:\n",
    "            j+=1\n",
    "        if i == 0 and len(arr[0])>j:\n",
    "            out += arr[0][j]\n",
    "        else:\n",
    "            if len(arr[i]) < j or out[j] != arr[i][j]:\n",
    "                out = out[:-1]\n",
    "                break\n",
    "        i = (i+1)%len(arr)\n",
    "    \n",
    "    return out"
   ]
  },
  {
   "cell_type": "code",
   "execution_count": 3,
   "metadata": {},
   "outputs": [
    {
     "name": "stdout",
     "output_type": "stream",
     "text": [
      "The input is : ['flower', 'flow', 'flight']\n",
      "The output is : fl\n"
     ]
    }
   ],
   "source": [
    "# Test case 1\n",
    "\n",
    "inp = [\"flower\", \"flow\", \"flight\"]\n",
    "out = find_common_substring(arr=inp)\n",
    "print(\"The input is :\", inp)\n",
    "print(\"The output is :\", out)"
   ]
  },
  {
   "cell_type": "code",
   "execution_count": 4,
   "metadata": {},
   "outputs": [
    {
     "name": "stdout",
     "output_type": "stream",
     "text": [
      "The input is : ['dog', 'racecar', 'car']\n",
      "The output is : \n"
     ]
    }
   ],
   "source": [
    "# Test case 2\n",
    "\n",
    "inp = [\"dog\", \"racecar\", \"car\"]\n",
    "out = find_common_substring(arr=inp)\n",
    "print(\"The input is :\", inp)\n",
    "print(\"The output is :\", out)"
   ]
  },
  {
   "cell_type": "code",
   "execution_count": 5,
   "metadata": {},
   "outputs": [
    {
     "name": "stdout",
     "output_type": "stream",
     "text": [
      "The input is : ['apple', 'ape', 'april']\n",
      "The output is : ap\n"
     ]
    }
   ],
   "source": [
    "# Test case 3\n",
    "\n",
    "inp = [\"apple\", \"ape\", \"april\"]\n",
    "out = find_common_substring(arr=inp)\n",
    "print(\"The input is :\", inp)\n",
    "print(\"The output is :\", out)"
   ]
  },
  {
   "cell_type": "code",
   "execution_count": 6,
   "metadata": {},
   "outputs": [
    {
     "name": "stdout",
     "output_type": "stream",
     "text": [
      "The input is : ['']\n",
      "The output is : \n"
     ]
    }
   ],
   "source": [
    "# Test case 4\n",
    "\n",
    "inp = [\"\"]\n",
    "out = find_common_substring(arr=inp)\n",
    "print(\"The input is :\", inp)\n",
    "print(\"The output is :\", out)"
   ]
  },
  {
   "cell_type": "code",
   "execution_count": 7,
   "metadata": {},
   "outputs": [
    {
     "name": "stdout",
     "output_type": "stream",
     "text": [
      "The input is : ['alone']\n",
      "The output is : alone\n"
     ]
    }
   ],
   "source": [
    "# Test case 5\n",
    "\n",
    "inp =  [\"alone\"]\n",
    "out = find_common_substring(arr=inp)\n",
    "print(\"The input is :\", inp)\n",
    "print(\"The output is :\", out)"
   ]
  }
 ],
 "metadata": {
  "kernelspec": {
   "display_name": "TorchEnv1",
   "language": "python",
   "name": "python3"
  },
  "language_info": {
   "codemirror_mode": {
    "name": "ipython",
    "version": 3
   },
   "file_extension": ".py",
   "mimetype": "text/x-python",
   "name": "python",
   "nbconvert_exporter": "python",
   "pygments_lexer": "ipython3",
   "version": "3.12.4"
  }
 },
 "nbformat": 4,
 "nbformat_minor": 2
}
