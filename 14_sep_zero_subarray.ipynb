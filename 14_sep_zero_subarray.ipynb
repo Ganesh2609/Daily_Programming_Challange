{
 "cells": [
  {
   "cell_type": "code",
   "execution_count": 1,
   "metadata": {},
   "outputs": [],
   "source": [
    "from typing import List"
   ]
  },
  {
   "cell_type": "code",
   "execution_count": 2,
   "metadata": {},
   "outputs": [],
   "source": [
    "def find_subarrays_with_zero_sum(arr:List):\n",
    "\n",
    "    sum_indices = {0:[-1]}\n",
    "    result = []\n",
    "    current_sum = 0\n",
    "    \n",
    "    for i in range(len(arr)):\n",
    "        current_sum += arr[i]\n",
    "        \n",
    "        if current_sum in sum_indices:\n",
    "            for start_index in sum_indices[current_sum]:\n",
    "                result.append((start_index + 1, i))\n",
    "        \n",
    "        if current_sum in sum_indices:\n",
    "            sum_indices[current_sum].append(i)\n",
    "        else:\n",
    "            sum_indices[current_sum] = [i]\n",
    "    \n",
    "    return result"
   ]
  },
  {
   "cell_type": "code",
   "execution_count": 3,
   "metadata": {},
   "outputs": [
    {
     "name": "stdout",
     "output_type": "stream",
     "text": [
      "The input is : [4, -1, -3, 1, 2, -1]\n",
      "The output is : [(0, 2), (2, 4)]\n"
     ]
    }
   ],
   "source": [
    "# Test case 1\n",
    "\n",
    "inp = [4, -1, -3, 1, 2, -1]\n",
    "out = find_subarrays_with_zero_sum(arr=inp)\n",
    "print(\"The input is :\", inp)\n",
    "print(\"The output is :\", out)"
   ]
  },
  {
   "cell_type": "code",
   "execution_count": 4,
   "metadata": {},
   "outputs": [
    {
     "name": "stdout",
     "output_type": "stream",
     "text": [
      "The input is : [1, 2, 3, 4]\n",
      "The output is : []\n"
     ]
    }
   ],
   "source": [
    "# Test case 2\n",
    "\n",
    "inp = [1, 2, 3, 4]\n",
    "out = find_subarrays_with_zero_sum(arr=inp)\n",
    "print(\"The input is :\", inp)\n",
    "print(\"The output is :\", out)"
   ]
  },
  {
   "cell_type": "code",
   "execution_count": 5,
   "metadata": {},
   "outputs": [
    {
     "name": "stdout",
     "output_type": "stream",
     "text": [
      "The input is : [0, 0, 0]\n",
      "The output is : [(0, 0), (0, 1), (1, 1), (0, 2), (1, 2), (2, 2)]\n"
     ]
    }
   ],
   "source": [
    "# Test case 3\n",
    "\n",
    "inp = [0, 0, 0]\n",
    "out = find_subarrays_with_zero_sum(arr=inp)\n",
    "print(\"The input is :\", inp)\n",
    "print(\"The output is :\", out)"
   ]
  },
  {
   "cell_type": "code",
   "execution_count": 6,
   "metadata": {},
   "outputs": [
    {
     "name": "stdout",
     "output_type": "stream",
     "text": [
      "The input is : [-3, 1, 2, -3, 4, 0]\n",
      "The output is : [(0, 2), (1, 3), (5, 5)]\n"
     ]
    }
   ],
   "source": [
    "# Test case 4\n",
    "\n",
    "inp = [-3, 1, 2, -3, 4, 0]\n",
    "out = find_subarrays_with_zero_sum(arr=inp)\n",
    "print(\"The input is :\", inp)\n",
    "print(\"The output is :\", out)"
   ]
  },
  {
   "cell_type": "code",
   "execution_count": 8,
   "metadata": {},
   "outputs": [],
   "source": [
    "# Test case 5\n",
    "\n",
    "inp = [1, -1, 2, -2, 3, -3] * 10000\n",
    "out = find_subarrays_with_zero_sum(arr=inp)\n",
    "print(\"The input is :\", inp)\n",
    "print(\"The output is :\", out)"
   ]
  },
  {
   "cell_type": "code",
   "execution_count": 7,
   "metadata": {},
   "outputs": [
    {
     "name": "stdout",
     "output_type": "stream",
     "text": [
      "The input is : [1, 2, -3, 3, -1, 2]\n",
      "The output is : [(0, 2), (2, 3)]\n"
     ]
    }
   ],
   "source": [
    "# Test case 6 : example case\n",
    "\n",
    "inp = [1, 2, -3, 3, -1, 2]\n",
    "out = find_subarrays_with_zero_sum(arr=inp)\n",
    "print(\"The input is :\", inp)\n",
    "print(\"The output is :\", out)"
   ]
  }
 ],
 "metadata": {
  "kernelspec": {
   "display_name": "TorchEnv1",
   "language": "python",
   "name": "python3"
  },
  "language_info": {
   "codemirror_mode": {
    "name": "ipython",
    "version": 3
   },
   "file_extension": ".py",
   "mimetype": "text/x-python",
   "name": "python",
   "nbconvert_exporter": "python",
   "pygments_lexer": "ipython3",
   "version": "3.12.4"
  }
 },
 "nbformat": 4,
 "nbformat_minor": 2
}
