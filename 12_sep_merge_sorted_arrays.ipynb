{
 "cells": [
  {
   "cell_type": "code",
   "execution_count": 1,
   "metadata": {},
   "outputs": [],
   "source": [
    "from typing import List"
   ]
  },
  {
   "cell_type": "code",
   "execution_count": 2,
   "metadata": {},
   "outputs": [],
   "source": [
    "def merge_sorted(arr1:List, arr2:List):\n",
    "    \n",
    "    first = 0\n",
    "    second = 0 \n",
    "    \n",
    "    while first < len(arr1) and second < len(arr2):\n",
    "        if arr1[first] > arr2[second]:\n",
    "            arr1[first], arr2[second] = arr2[second], arr1[first]\n",
    "            first += 1\n",
    "            i = 0\n",
    "            while i<len(arr2)-1 and arr2[i] > arr2[i+1]:\n",
    "                arr2[i], arr2[i+1] = arr2[i+1], arr2[i]\n",
    "                i+=1\n",
    "        else:\n",
    "            first += 1\n",
    "\n",
    "    return arr1, arr2"
   ]
  },
  {
   "cell_type": "code",
   "execution_count": 3,
   "metadata": {},
   "outputs": [
    {
     "name": "stdout",
     "output_type": "stream",
     "text": [
      "The input is : [1, 3, 5] | [2, 4, 6]\n",
      "The output is : [1, 2, 3] | [4, 5, 6]\n"
     ]
    }
   ],
   "source": [
    "# Test case 1\n",
    "\n",
    "inp1 = [1, 3, 5]\n",
    "inp2 = [2, 4, 6]\n",
    "out1, out2 = merge_sorted(arr1=inp1.copy(), arr2=inp2.copy())\n",
    "print(\"The input is :\", inp1, '|', inp2)\n",
    "print(\"The output is :\", out1, '|', out2)"
   ]
  },
  {
   "cell_type": "code",
   "execution_count": 4,
   "metadata": {},
   "outputs": [
    {
     "name": "stdout",
     "output_type": "stream",
     "text": [
      "The input is : [10, 12, 14] | [1, 3, 5]\n",
      "The output is : [1, 3, 5] | [10, 12, 14]\n"
     ]
    }
   ],
   "source": [
    "# Test case 2\n",
    "\n",
    "inp1 = [10, 12, 14]\n",
    "inp2 = [1, 3, 5]\n",
    "out1, out2 = merge_sorted(arr1=inp1.copy(), arr2=inp2.copy())\n",
    "print(\"The input is :\", inp1, '|', inp2)\n",
    "print(\"The output is :\", out1, '|', out2)"
   ]
  },
  {
   "cell_type": "code",
   "execution_count": 5,
   "metadata": {},
   "outputs": [
    {
     "name": "stdout",
     "output_type": "stream",
     "text": [
      "The input is : [2, 3, 8] | [4, 6, 10]\n",
      "The output is : [2, 3, 4] | [6, 8, 10]\n"
     ]
    }
   ],
   "source": [
    "# Test case 3\n",
    "\n",
    "inp1 = [2, 3, 8]\n",
    "inp2 = [4, 6, 10]\n",
    "out1, out2 = merge_sorted(arr1=inp1.copy(), arr2=inp2.copy())\n",
    "print(\"The input is :\", inp1, '|', inp2)\n",
    "print(\"The output is :\", out1, '|', out2)"
   ]
  },
  {
   "cell_type": "code",
   "execution_count": 6,
   "metadata": {},
   "outputs": [
    {
     "name": "stdout",
     "output_type": "stream",
     "text": [
      "The input is : [1] | [2]\n",
      "The output is : [1] | [2]\n"
     ]
    }
   ],
   "source": [
    "# Test case 4\n",
    "\n",
    "inp1 = [1]\n",
    "inp2 = [2]\n",
    "out1, out2 = merge_sorted(arr1=inp1.copy(), arr2=inp2.copy())\n",
    "print(\"The input is :\", inp1, '|', inp2)\n",
    "print(\"The output is :\", out1, '|', out2)"
   ]
  },
  {
   "cell_type": "code",
   "execution_count": null,
   "metadata": {},
   "outputs": [],
   "source": [
    "# Test case 5\n",
    "\n",
    "inp1 = list(range(1,100001))\n",
    "inp2 = list(range(50001,100001))\n",
    "out1, out2 = merge_sorted(arr1=inp1.copy(), arr2=inp2.copy())\n",
    "print(\"The input is :\", inp1[0:5], '|', inp2[0:5])\n",
    "print(\"The output is :\", out1[0:5], '|', out2[0:5])"
   ]
  }
 ],
 "metadata": {
  "kernelspec": {
   "display_name": "TorchEnv1",
   "language": "python",
   "name": "python3"
  },
  "language_info": {
   "codemirror_mode": {
    "name": "ipython",
    "version": 3
   },
   "file_extension": ".py",
   "mimetype": "text/x-python",
   "name": "python",
   "nbconvert_exporter": "python",
   "pygments_lexer": "ipython3",
   "version": "3.12.4"
  }
 },
 "nbformat": 4,
 "nbformat_minor": 2
}
