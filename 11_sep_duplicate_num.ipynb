{
 "cells": [
  {
   "cell_type": "code",
   "execution_count": 1,
   "metadata": {},
   "outputs": [],
   "source": [
    "from typing import List"
   ]
  },
  {
   "cell_type": "code",
   "execution_count": 2,
   "metadata": {},
   "outputs": [],
   "source": [
    "def find_duplicate(arr:List):\n",
    "    slow = arr[0]\n",
    "    fast = arr[arr[0]]\n",
    "    \n",
    "    while slow != fast:\n",
    "        slow = arr[slow]\n",
    "        fast = arr[arr[fast]]\n",
    "        \n",
    "    slow = 0\n",
    "    while(slow != fast):\n",
    "        slow = arr[slow]\n",
    "        fast = arr[fast]\n",
    "        \n",
    "    return slow"
   ]
  },
  {
   "cell_type": "code",
   "execution_count": 3,
   "metadata": {},
   "outputs": [
    {
     "name": "stdout",
     "output_type": "stream",
     "text": [
      "The input is : [1, 3, 4, 2, 2]\n",
      "The output is : 2\n"
     ]
    }
   ],
   "source": [
    "# Test case 1\n",
    "\n",
    "inp = [1, 3, 4, 2, 2]\n",
    "out = find_duplicate(arr=inp)\n",
    "print(\"The input is :\", inp)\n",
    "print(\"The output is :\", out)"
   ]
  },
  {
   "cell_type": "code",
   "execution_count": 4,
   "metadata": {},
   "outputs": [
    {
     "name": "stdout",
     "output_type": "stream",
     "text": [
      "The input is : [3, 1, 3, 4, 2]\n",
      "The output is : 3\n"
     ]
    }
   ],
   "source": [
    "# Test case 2\n",
    "\n",
    "inp = [3, 1, 3, 4, 2]\n",
    "out = find_duplicate(arr=inp)\n",
    "print(\"The input is :\", inp)\n",
    "print(\"The output is :\", out)"
   ]
  },
  {
   "cell_type": "code",
   "execution_count": 5,
   "metadata": {},
   "outputs": [
    {
     "name": "stdout",
     "output_type": "stream",
     "text": [
      "The input is : [1, 1]\n",
      "The output is : 1\n"
     ]
    }
   ],
   "source": [
    "# Test case 3\n",
    "\n",
    "inp = [1, 1]\n",
    "out = find_duplicate(arr=inp)\n",
    "print(\"The input is :\", inp)\n",
    "print(\"The output is :\", out)"
   ]
  },
  {
   "cell_type": "code",
   "execution_count": 6,
   "metadata": {},
   "outputs": [
    {
     "name": "stdout",
     "output_type": "stream",
     "text": [
      "The input is : [1, 4, 4, 2, 3]\n",
      "The output is : 4\n"
     ]
    }
   ],
   "source": [
    "# Test case 4\n",
    "\n",
    "inp = [1, 4, 4, 2, 3]\n",
    "out = find_duplicate(arr=inp)\n",
    "print(\"The input is :\", inp)\n",
    "print(\"The output is :\", out)"
   ]
  },
  {
   "cell_type": "code",
   "execution_count": 14,
   "metadata": {},
   "outputs": [
    {
     "name": "stdout",
     "output_type": "stream",
     "text": [
      "The output is : 50000\n"
     ]
    }
   ],
   "source": [
    "# Test case 5\n",
    "\n",
    "inp = list(range(1, 100000))\n",
    "inp.append(50000)\n",
    "out = find_duplicate(arr=inp)\n",
    "#print(\"The input is :\", inp)\n",
    "print(\"The output is :\", out)"
   ]
  },
  {
   "cell_type": "code",
   "execution_count": 15,
   "metadata": {},
   "outputs": [
    {
     "name": "stdout",
     "output_type": "stream",
     "text": [
      "The output is : 4\n"
     ]
    }
   ],
   "source": [
    "# Test case 6\n",
    "\n",
    "inp = [1, 4, 3, 6, 4, 4, 5, 4]\n",
    "out = find_duplicate(arr=inp)\n",
    "#print(\"The input is :\", inp)\n",
    "print(\"The output is :\", out)"
   ]
  }
 ],
 "metadata": {
  "kernelspec": {
   "display_name": "TorchEnv1",
   "language": "python",
   "name": "python3"
  },
  "language_info": {
   "codemirror_mode": {
    "name": "ipython",
    "version": 3
   },
   "file_extension": ".py",
   "mimetype": "text/x-python",
   "name": "python",
   "nbconvert_exporter": "python",
   "pygments_lexer": "ipython3",
   "version": "3.12.4"
  }
 },
 "nbformat": 4,
 "nbformat_minor": 2
}
