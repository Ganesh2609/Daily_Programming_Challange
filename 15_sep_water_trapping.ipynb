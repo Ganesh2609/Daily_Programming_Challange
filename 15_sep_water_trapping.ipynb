{
 "cells": [
  {
   "cell_type": "code",
   "execution_count": 1,
   "metadata": {},
   "outputs": [],
   "source": [
    "from typing import List"
   ]
  },
  {
   "cell_type": "code",
   "execution_count": 2,
   "metadata": {},
   "outputs": [],
   "source": [
    "def find_trapped_water(height:List):\n",
    "    left = 0\n",
    "    right = len(height) - 1\n",
    "    left_max = height[left]\n",
    "    right_max = height[right]\n",
    "    water = 0\n",
    "    \n",
    "    while left < right:\n",
    "        if left_max < right_max:\n",
    "            left += 1\n",
    "            left_max = max(left_max, height[left])\n",
    "            water += left_max - height[left]\n",
    "        else:\n",
    "            right -= 1\n",
    "            right_max = max(right_max, height[right])\n",
    "            water += right_max - height[right]\n",
    "    \n",
    "    return water"
   ]
  },
  {
   "cell_type": "code",
   "execution_count": 3,
   "metadata": {},
   "outputs": [
    {
     "name": "stdout",
     "output_type": "stream",
     "text": [
      "The input is : [0, 1, 0, 2, 1, 0, 1, 3, 2, 1, 2, 1]\n",
      "The output is : 6\n"
     ]
    }
   ],
   "source": [
    "# Test case 1 : example case\n",
    "\n",
    "inp = [0, 1, 0, 2, 1, 0, 1, 3, 2, 1, 2, 1]\n",
    "out = find_trapped_water(height=inp)\n",
    "print(\"The input is :\", inp)\n",
    "print(\"The output is :\", out)"
   ]
  },
  {
   "cell_type": "code",
   "execution_count": 4,
   "metadata": {},
   "outputs": [
    {
     "name": "stdout",
     "output_type": "stream",
     "text": [
      "The input is : [4, 2, 0, 3, 2, 5]\n",
      "The output is : 9\n"
     ]
    }
   ],
   "source": [
    "# Test case 2\n",
    "\n",
    "inp =  [4, 2, 0, 3, 2, 5]\n",
    "out = find_trapped_water(height=inp)\n",
    "print(\"The input is :\", inp)\n",
    "print(\"The output is :\", out)"
   ]
  },
  {
   "cell_type": "code",
   "execution_count": 5,
   "metadata": {},
   "outputs": [
    {
     "name": "stdout",
     "output_type": "stream",
     "text": [
      "The input is : [1, 1, 1]\n",
      "The output is : 0\n"
     ]
    }
   ],
   "source": [
    "# Test case 3\n",
    "\n",
    "inp = [1, 1, 1]\n",
    "out = find_trapped_water(height=inp)\n",
    "print(\"The input is :\", inp)\n",
    "print(\"The output is :\", out)"
   ]
  },
  {
   "cell_type": "code",
   "execution_count": 6,
   "metadata": {},
   "outputs": [
    {
     "name": "stdout",
     "output_type": "stream",
     "text": [
      "The input is : [5]\n",
      "The output is : 0\n"
     ]
    }
   ],
   "source": [
    "# Test case 4\n",
    "\n",
    "inp = [5]\n",
    "out = find_trapped_water(height=inp)\n",
    "print(\"The input is :\", inp)\n",
    "print(\"The output is :\", out)"
   ]
  },
  {
   "cell_type": "code",
   "execution_count": 7,
   "metadata": {},
   "outputs": [
    {
     "name": "stdout",
     "output_type": "stream",
     "text": [
      "The input is : [2, 0, 2]\n",
      "The output is : 2\n"
     ]
    }
   ],
   "source": [
    "# Test case 5\n",
    "\n",
    "inp = [2, 0, 2]\n",
    "out = find_trapped_water(height=inp)\n",
    "print(\"The input is :\", inp)\n",
    "print(\"The output is :\", out)"
   ]
  }
 ],
 "metadata": {
  "kernelspec": {
   "display_name": "TorchEnv1",
   "language": "python",
   "name": "python3"
  },
  "language_info": {
   "codemirror_mode": {
    "name": "ipython",
    "version": 3
   },
   "file_extension": ".py",
   "mimetype": "text/x-python",
   "name": "python",
   "nbconvert_exporter": "python",
   "pygments_lexer": "ipython3",
   "version": "3.12.4"
  }
 },
 "nbformat": 4,
 "nbformat_minor": 2
}
