{
 "cells": [
  {
   "cell_type": "code",
   "execution_count": 1,
   "metadata": {},
   "outputs": [],
   "source": [
    "class MaxHeap:\n",
    "    \n",
    "    def __init__(self, array:list):\n",
    "        self.heap = array.copy()\n",
    "        self.build_heap()\n",
    "    \n",
    "    def heapify(self,curr:int):\n",
    "        left = 2*(curr) + 1\n",
    "        right = left + 1\n",
    "        largest = curr\n",
    "        if left < len(self.heap):\n",
    "            largest = left if self.heap[left] > self.heap[curr] else curr\n",
    "        if right < len(self.heap):\n",
    "            largest = right if self.heap[right] > self.heap[largest] else largest\n",
    "        if largest == curr:\n",
    "            return       \n",
    "        self.heap[largest], self.heap[curr] = self.heap[curr], self.heap[largest]\n",
    "        self.heapify(largest)\n",
    "\n",
    "    def build_heap(self):\n",
    "        for i in range(len(self.heap)//2 - 1, -1, -1):\n",
    "            self.heapify(i)\n",
    "    \n",
    "    def get_largest_element(self, k:int):\n",
    "        if k<=0 or k>len(self.heap):\n",
    "            print('ERROR : The value of k is not withing the range of the array')\n",
    "            return\n",
    "        k-=1\n",
    "        out = self.heap[0]\n",
    "        for i in range(k):\n",
    "            self.heap[0], self.heap[-1] = self.heap[-1], self.heap[0]\n",
    "            self.heap.pop(-1)\n",
    "            self.heapify(0)\n",
    "            out = self.heap[0]\n",
    "        return out"
   ]
  },
  {
   "cell_type": "code",
   "execution_count": 2,
   "metadata": {},
   "outputs": [
    {
     "name": "stdout",
     "output_type": "stream",
     "text": [
      "Example 1 :-\n",
      "Array : [3, 2, 1, 5, 6, 4]\n",
      "k : 2\n",
      "Answer : 5\n"
     ]
    }
   ],
   "source": [
    "arr = [3, 2, 1, 5, 6, 4]\n",
    "k = 2\n",
    "heap = MaxHeap(array=arr)\n",
    "out = heap.get_largest_element(k)\n",
    "\n",
    "if out is not None:\n",
    "    print('Example 1 :-')\n",
    "    print(f'Array : {arr}\\nk : {k}\\nAnswer : {out}')"
   ]
  },
  {
   "cell_type": "code",
   "execution_count": 3,
   "metadata": {},
   "outputs": [
    {
     "name": "stdout",
     "output_type": "stream",
     "text": [
      "Example 2 :-\n",
      "Array : [2, 3, 5, 15, 9, 10, 4, 2, 2]\n",
      "k : 3\n",
      "Answer : 9\n"
     ]
    }
   ],
   "source": [
    "arr = [2, 3, 5, 15, 9, 10, 4, 2, 2]\n",
    "k = 3\n",
    "heap = MaxHeap(array=arr)\n",
    "out = heap.get_largest_element(k)\n",
    "\n",
    "if out is not None:\n",
    "    print('Example 2 :-')\n",
    "    print(f'Array : {arr}\\nk : {k}\\nAnswer : {out}')"
   ]
  }
 ],
 "metadata": {
  "kernelspec": {
   "display_name": "TorchEnv1",
   "language": "python",
   "name": "python3"
  },
  "language_info": {
   "codemirror_mode": {
    "name": "ipython",
    "version": 3
   },
   "file_extension": ".py",
   "mimetype": "text/x-python",
   "name": "python",
   "nbconvert_exporter": "python",
   "pygments_lexer": "ipython3",
   "version": "3.12.3"
  }
 },
 "nbformat": 4,
 "nbformat_minor": 2
}
