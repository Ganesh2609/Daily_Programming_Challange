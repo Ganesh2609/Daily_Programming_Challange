{
 "cells": [
  {
   "cell_type": "code",
   "execution_count": 9,
   "metadata": {},
   "outputs": [],
   "source": [
    "from typing import List"
   ]
  },
  {
   "cell_type": "code",
   "execution_count": 10,
   "metadata": {},
   "outputs": [],
   "source": [
    "def num_letters(word:str):\n",
    "    out = {}\n",
    "    for i in word:\n",
    "        if i in out:\n",
    "            out[i] += 1\n",
    "        else:\n",
    "            out.update({i:1})\n",
    "    return out "
   ]
  },
  {
   "cell_type": "code",
   "execution_count": 11,
   "metadata": {},
   "outputs": [],
   "source": [
    "def group_anagrams(arr:List):\n",
    "    out = []\n",
    "    for word in arr:\n",
    "        visited = 0\n",
    "        curr = num_letters(word)\n",
    "        for prev in out:\n",
    "            if curr == num_letters(prev[0]):\n",
    "                prev.append(word)\n",
    "                visited = 1\n",
    "                break \n",
    "        if visited == 0:\n",
    "            out.append([word])     \n",
    "    return out   "
   ]
  },
  {
   "cell_type": "code",
   "execution_count": 12,
   "metadata": {},
   "outputs": [
    {
     "name": "stdout",
     "output_type": "stream",
     "text": [
      "The input is : ['eat', 'tea', 'tan', 'ate', 'nat', 'bat']\n",
      "The output is : [['eat', 'tea', 'ate'], ['tan', 'nat'], ['bat']]\n"
     ]
    }
   ],
   "source": [
    "# Test case 1\n",
    "\n",
    "inp = [\"eat\", \"tea\", \"tan\", \"ate\", \"nat\", \"bat\"]\n",
    "out = group_anagrams(arr=inp)\n",
    "print(\"The input is :\", inp)\n",
    "print(\"The output is :\", out)"
   ]
  },
  {
   "cell_type": "code",
   "execution_count": 13,
   "metadata": {},
   "outputs": [
    {
     "name": "stdout",
     "output_type": "stream",
     "text": [
      "The input is : ['']\n",
      "The output is : [['']]\n"
     ]
    }
   ],
   "source": [
    "# Test case 2\n",
    "\n",
    "inp = [\"\"]\n",
    "out = group_anagrams(arr=inp)\n",
    "print(\"The input is :\", inp)\n",
    "print(\"The output is :\", out)"
   ]
  },
  {
   "cell_type": "code",
   "execution_count": 14,
   "metadata": {},
   "outputs": [
    {
     "name": "stdout",
     "output_type": "stream",
     "text": [
      "The input is : ['a']\n",
      "The output is : [['a']]\n"
     ]
    }
   ],
   "source": [
    "# Test case 3\n",
    "\n",
    "inp = [\"a\"]\n",
    "out = group_anagrams(arr=inp)\n",
    "print(\"The input is :\", inp)\n",
    "print(\"The output is :\", out)"
   ]
  },
  {
   "cell_type": "code",
   "execution_count": 15,
   "metadata": {},
   "outputs": [
    {
     "name": "stdout",
     "output_type": "stream",
     "text": [
      "The input is : ['abc', 'bca', 'cab', 'xyz', 'zyx', 'yxz']\n",
      "The output is : [['abc', 'bca', 'cab'], ['xyz', 'zyx', 'yxz']]\n"
     ]
    }
   ],
   "source": [
    "# Test case 4\n",
    "\n",
    "inp = [\"abc\", \"bca\", \"cab\", \"xyz\", \"zyx\", \"yxz\"]\n",
    "out = group_anagrams(arr=inp)\n",
    "print(\"The input is :\", inp)\n",
    "print(\"The output is :\", out)"
   ]
  },
  {
   "cell_type": "code",
   "execution_count": 16,
   "metadata": {},
   "outputs": [
    {
     "name": "stdout",
     "output_type": "stream",
     "text": [
      "The input is : ['abc', 'def', 'ghi']\n",
      "The output is : [['abc'], ['def'], ['ghi']]\n"
     ]
    }
   ],
   "source": [
    "# Test case 5\n",
    "\n",
    "inp = [\"abc\", \"def\", \"ghi\"]\n",
    "out = group_anagrams(arr=inp)\n",
    "print(\"The input is :\", inp)\n",
    "print(\"The output is :\", out)"
   ]
  }
 ],
 "metadata": {
  "kernelspec": {
   "display_name": "TorchEnv1",
   "language": "python",
   "name": "python3"
  },
  "language_info": {
   "codemirror_mode": {
    "name": "ipython",
    "version": 3
   },
   "file_extension": ".py",
   "mimetype": "text/x-python",
   "name": "python",
   "nbconvert_exporter": "python",
   "pygments_lexer": "ipython3",
   "version": "3.12.4"
  }
 },
 "nbformat": 4,
 "nbformat_minor": 2
}
