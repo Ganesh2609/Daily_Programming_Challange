{
 "cells": [
  {
   "cell_type": "code",
   "execution_count": 1,
   "metadata": {},
   "outputs": [],
   "source": [
    "from typing import List"
   ]
  },
  {
   "cell_type": "code",
   "execution_count": 2,
   "metadata": {},
   "outputs": [],
   "source": [
    "class MissingNumber:\n",
    "    \n",
    "    def __init__(self, arr:List):\n",
    "        self.arr = arr\n",
    "        self.l = 1\n",
    "        self.r = len(arr)\n",
    "        \n",
    "    def solve(self) -> int:\n",
    "        def find_missing_number(arr:List, l:int, r:int) -> int:\n",
    "            if arr[0] != 1:\n",
    "                return 1\n",
    "            elif arr[-1] != len(arr)+1:\n",
    "                return len(arr)+1\n",
    "            elif l == r:\n",
    "                return -1\n",
    "            mid = int((l+r)/2)\n",
    "            if arr[mid] != arr[mid-1]+1:\n",
    "                return arr[mid-1]+1\n",
    "            else:\n",
    "                left = find_missing_number(arr, l, mid)\n",
    "                right = find_missing_number(arr, mid+1, r)\n",
    "                if left != -1:\n",
    "                    return left\n",
    "                else:\n",
    "                    return right\n",
    "        return find_missing_number(self.arr, self.l, self.r)"
   ]
  },
  {
   "cell_type": "code",
   "execution_count": 3,
   "metadata": {},
   "outputs": [
    {
     "name": "stdout",
     "output_type": "stream",
     "text": [
      "The input is : [1, 2, 4, 5]\n",
      "The output is : 3\n"
     ]
    }
   ],
   "source": [
    "# Test case 1\n",
    "\n",
    "inp =  [1, 2, 4, 5]\n",
    "solver = MissingNumber(inp)\n",
    "out = solver.solve()\n",
    "print(\"The input is :\", inp)\n",
    "print(\"The output is :\", out)"
   ]
  },
  {
   "cell_type": "code",
   "execution_count": 4,
   "metadata": {},
   "outputs": [
    {
     "name": "stdout",
     "output_type": "stream",
     "text": [
      "The input is : [2, 3, 4, 5]\n",
      "The output is : 1\n"
     ]
    }
   ],
   "source": [
    "# Test case 2\n",
    "\n",
    "inp =  [2, 3, 4, 5]\n",
    "solver = MissingNumber(inp)\n",
    "out = solver.solve()\n",
    "print(\"The input is :\", inp)\n",
    "print(\"The output is :\", out)"
   ]
  },
  {
   "cell_type": "code",
   "execution_count": 5,
   "metadata": {},
   "outputs": [
    {
     "name": "stdout",
     "output_type": "stream",
     "text": [
      "The input is : [1, 2, 3, 4]\n",
      "The output is :  5\n"
     ]
    }
   ],
   "source": [
    "# Test case 3\n",
    "\n",
    "inp = [1, 2, 3, 4]\n",
    "solver = MissingNumber(inp)\n",
    "out = solver.solve()\n",
    "print(\"The input is :\", inp)\n",
    "print(\"The output is : \", out)"
   ]
  },
  {
   "cell_type": "code",
   "execution_count": 6,
   "metadata": {},
   "outputs": [
    {
     "name": "stdout",
     "output_type": "stream",
     "text": [
      "The input is : [1]\n",
      "The output is : 2\n"
     ]
    }
   ],
   "source": [
    "# Test case 4\n",
    "\n",
    "inp =  [1]\n",
    "solver = MissingNumber(inp)\n",
    "out = solver.solve()\n",
    "print(\"The input is :\", inp)\n",
    "print(\"The output is :\", out)"
   ]
  },
  {
   "cell_type": "code",
   "execution_count": 7,
   "metadata": {},
   "outputs": [
    {
     "name": "stdout",
     "output_type": "stream",
     "text": [
      "The output is : 1000000\n"
     ]
    }
   ],
   "source": [
    "# Test case 5\n",
    "\n",
    "inp =  list(range(1, 1000000))\n",
    "solver = MissingNumber(inp)\n",
    "out = solver.solve()\n",
    "#print(\"The input is :\", inp)\n",
    "print(\"The output is :\", out)"
   ]
  }
 ],
 "metadata": {
  "kernelspec": {
   "display_name": "TorchEnv1",
   "language": "python",
   "name": "python3"
  },
  "language_info": {
   "codemirror_mode": {
    "name": "ipython",
    "version": 3
   },
   "file_extension": ".py",
   "mimetype": "text/x-python",
   "name": "python",
   "nbconvert_exporter": "python",
   "pygments_lexer": "ipython3",
   "version": "3.12.4"
  }
 },
 "nbformat": 4,
 "nbformat_minor": 2
}
