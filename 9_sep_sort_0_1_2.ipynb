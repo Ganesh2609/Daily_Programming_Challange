{
 "cells": [
  {
   "cell_type": "code",
   "execution_count": 1,
   "metadata": {},
   "outputs": [],
   "source": [
    "from typing import List"
   ]
  },
  {
   "cell_type": "code",
   "execution_count": 2,
   "metadata": {},
   "outputs": [],
   "source": [
    "def dutch_national_flag(arr:List) -> List:\n",
    "    left = 0\n",
    "    mid = 0\n",
    "    right = len(arr)-1\n",
    "    \n",
    "    while mid <= right:\n",
    "  \n",
    "        if arr[mid] == 0:\n",
    "            arr[left], arr[mid] = arr[mid], arr[left]\n",
    "            left += 1   \n",
    "            mid += 1\n",
    "        elif arr[mid] == 1:\n",
    "            mid += 1\n",
    "        else:\n",
    "            arr[right], arr[mid] = arr[mid], arr[right]\n",
    "            right -= 1    \n",
    "    \n",
    "    return arr        "
   ]
  },
  {
   "cell_type": "code",
   "execution_count": 3,
   "metadata": {},
   "outputs": [
    {
     "name": "stdout",
     "output_type": "stream",
     "text": [
      "The input is :  [0, 1, 2, 1, 0, 2, 1, 0]\n",
      "The output is :  [0, 0, 0, 1, 1, 1, 2, 2]\n"
     ]
    }
   ],
   "source": [
    "# Test case 1\n",
    "\n",
    "inp = [0, 1, 2, 1, 0, 2, 1, 0]\n",
    "out = dutch_national_flag(arr=inp.copy())\n",
    "print(\"The input is : \", inp)\n",
    "print(\"The output is : \", out)"
   ]
  },
  {
   "cell_type": "code",
   "execution_count": 4,
   "metadata": {},
   "outputs": [
    {
     "name": "stdout",
     "output_type": "stream",
     "text": [
      "The input is :  [2, 2, 2, 2]\n",
      "The output is :  [2, 2, 2, 2]\n"
     ]
    }
   ],
   "source": [
    "# Test case 2\n",
    "\n",
    "inp = [2, 2, 2, 2]\n",
    "out = dutch_national_flag(arr=inp.copy())\n",
    "print(\"The input is : \", inp)\n",
    "print(\"The output is : \", out)"
   ]
  },
  {
   "cell_type": "code",
   "execution_count": 5,
   "metadata": {},
   "outputs": [
    {
     "name": "stdout",
     "output_type": "stream",
     "text": [
      "The input is :  [0, 0, 0, 0]\n",
      "The output is :  [0, 0, 0, 0]\n"
     ]
    }
   ],
   "source": [
    "# Test case 3\n",
    "\n",
    "inp =  [0, 0, 0, 0]\n",
    "out = dutch_national_flag(arr=inp.copy())\n",
    "print(\"The input is : \", inp)\n",
    "print(\"The output is : \", out)"
   ]
  },
  {
   "cell_type": "code",
   "execution_count": 6,
   "metadata": {},
   "outputs": [
    {
     "name": "stdout",
     "output_type": "stream",
     "text": [
      "The input is :  [1, 1, 1, 1]\n",
      "The output is :  [1, 1, 1, 1]\n"
     ]
    }
   ],
   "source": [
    "# Test case 4\n",
    "\n",
    "inp = [1, 1, 1, 1]\n",
    "out = dutch_national_flag(arr=inp.copy())\n",
    "print(\"The input is : \", inp)\n",
    "print(\"The output is : \", out)"
   ]
  },
  {
   "cell_type": "code",
   "execution_count": 7,
   "metadata": {},
   "outputs": [
    {
     "name": "stdout",
     "output_type": "stream",
     "text": [
      "The input is :  [2, 0, 1]\n",
      "The output is :  [0, 1, 2]\n"
     ]
    }
   ],
   "source": [
    "# Test case 5\n",
    "\n",
    "inp = [2, 0, 1]\n",
    "out = dutch_national_flag(arr=inp.copy())\n",
    "print(\"The input is : \", inp)\n",
    "print(\"The output is : \", out)"
   ]
  },
  {
   "cell_type": "code",
   "execution_count": 8,
   "metadata": {},
   "outputs": [
    {
     "name": "stdout",
     "output_type": "stream",
     "text": [
      "The input is :  []\n",
      "The output is :  []\n"
     ]
    }
   ],
   "source": [
    "# Test case 6\n",
    "\n",
    "inp = []\n",
    "out = dutch_national_flag(arr=inp.copy())\n",
    "print(\"The input is : \", inp)\n",
    "print(\"The output is : \", out)"
   ]
  }
 ],
 "metadata": {
  "kernelspec": {
   "display_name": "TorchEnv1",
   "language": "python",
   "name": "python3"
  },
  "language_info": {
   "codemirror_mode": {
    "name": "ipython",
    "version": 3
   },
   "file_extension": ".py",
   "mimetype": "text/x-python",
   "name": "python",
   "nbconvert_exporter": "python",
   "pygments_lexer": "ipython3",
   "version": "3.12.4"
  }
 },
 "nbformat": 4,
 "nbformat_minor": 2
}
