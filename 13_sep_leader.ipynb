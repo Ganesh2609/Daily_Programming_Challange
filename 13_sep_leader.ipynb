{
 "cells": [
  {
   "cell_type": "code",
   "execution_count": 1,
   "metadata": {},
   "outputs": [],
   "source": [
    "from typing import List"
   ]
  },
  {
   "cell_type": "code",
   "execution_count": 2,
   "metadata": {},
   "outputs": [],
   "source": [
    "def find_leaders(arr:List):\n",
    "    leaders = []\n",
    "    last_leader = -float('inf')\n",
    "    for i in arr[::-1]:\n",
    "        if i > last_leader:\n",
    "            leaders.append(i)\n",
    "            last_leader = i\n",
    "    \n",
    "    leaders.reverse()\n",
    "    return leaders"
   ]
  },
  {
   "cell_type": "code",
   "execution_count": 3,
   "metadata": {},
   "outputs": [
    {
     "name": "stdout",
     "output_type": "stream",
     "text": [
      "The input is : [1, 2, 3, 4, 0]\n",
      "The output is : [4, 0]\n"
     ]
    }
   ],
   "source": [
    "# Test case 1\n",
    "\n",
    "inp = [1, 2, 3, 4, 0]\n",
    "out = find_leaders(arr=inp)\n",
    "print(\"The input is :\", inp)\n",
    "print(\"The output is :\", out)"
   ]
  },
  {
   "cell_type": "code",
   "execution_count": 4,
   "metadata": {},
   "outputs": [
    {
     "name": "stdout",
     "output_type": "stream",
     "text": [
      "The input is : [7, 10, 4, 10, 6, 5, 2]\n",
      "The output is : [10, 6, 5, 2]\n"
     ]
    }
   ],
   "source": [
    "# Test case 2\n",
    "\n",
    "inp = [7, 10, 4, 10, 6, 5, 2]\n",
    "out = find_leaders(arr=inp)\n",
    "print(\"The input is :\", inp)\n",
    "print(\"The output is :\", out)"
   ]
  },
  {
   "cell_type": "code",
   "execution_count": 5,
   "metadata": {},
   "outputs": [
    {
     "name": "stdout",
     "output_type": "stream",
     "text": [
      "The input is : [5]\n",
      "The output is : [5]\n"
     ]
    }
   ],
   "source": [
    "# Test case 3\n",
    "\n",
    "inp = [5]\n",
    "out = find_leaders(arr=inp)\n",
    "print(\"The input is :\", inp)\n",
    "print(\"The output is :\", out)"
   ]
  },
  {
   "cell_type": "code",
   "execution_count": 6,
   "metadata": {},
   "outputs": [
    {
     "name": "stdout",
     "output_type": "stream",
     "text": [
      "The input is : [100, 50, 20, 10]\n",
      "The output is : [100, 50, 20, 10]\n"
     ]
    }
   ],
   "source": [
    "# Test case 4\n",
    "\n",
    "inp = [100, 50, 20, 10]\n",
    "out = find_leaders(arr=inp)\n",
    "print(\"The input is :\", inp)\n",
    "print(\"The output is :\", out)"
   ]
  },
  {
   "cell_type": "code",
   "execution_count": 7,
   "metadata": {},
   "outputs": [
    {
     "name": "stdout",
     "output_type": "stream",
     "text": [
      "The output is : [1000000]\n"
     ]
    }
   ],
   "source": [
    "# Test case 5\n",
    "\n",
    "inp = list(range(1, 1000001))\n",
    "out = find_leaders(arr=inp)\n",
    "#print(\"The input is :\", inp)\n",
    "print(\"The output is :\", out)"
   ]
  },
  {
   "cell_type": "code",
   "execution_count": 8,
   "metadata": {},
   "outputs": [
    {
     "name": "stdout",
     "output_type": "stream",
     "text": [
      "The input is : [16, 17, 4, 3, 5, 2]\n",
      "The output is : [17, 5, 2]\n"
     ]
    }
   ],
   "source": [
    "# Test case 6 : example case\n",
    "\n",
    "inp = [16, 17, 4, 3, 5, 2]\n",
    "out = find_leaders(arr=inp)\n",
    "print(\"The input is :\", inp)\n",
    "print(\"The output is :\", out)"
   ]
  }
 ],
 "metadata": {
  "kernelspec": {
   "display_name": "TorchEnv1",
   "language": "python",
   "name": "python3"
  },
  "language_info": {
   "codemirror_mode": {
    "name": "ipython",
    "version": 3
   },
   "file_extension": ".py",
   "mimetype": "text/x-python",
   "name": "python",
   "nbconvert_exporter": "python",
   "pygments_lexer": "ipython3",
   "version": "3.12.4"
  }
 },
 "nbformat": 4,
 "nbformat_minor": 2
}
